{
 "cells": [
  {
   "cell_type": "code",
   "execution_count": 1,
   "id": "377ad1cf",
   "metadata": {
    "scrolled": true
   },
   "outputs": [
    {
     "name": "stdout",
     "output_type": "stream",
     "text": [
      "entrée votre taille en cm150\n",
      "entrée votre poids50\n",
      "vous avez 1.5m et une masse de 50kg\n",
      "votre IMC est: 22.22222222222222 kg/m² vous avez une corpulence normale\n"
     ]
    }
   ],
   "source": [
    "# exo 1.1\n",
    "# calcul de l'IMC\n",
    "taille = int(input(\"entrée votre taille en cm\"))\n",
    "masse = int(input(\"entrée votre poids\"))\n",
    "\n",
    "taille = taille / 100\n",
    "\n",
    "print(\"vous avez \" + str(taille) + \"m et une masse de \" + str(masse) + \"kg\")\n",
    "IMC = masse / (taille)**2\n",
    "if (IMC < 18.4):\n",
    "    print(\"votre IMC est: \" + str(IMC) + \" kg/m²\" + \" vous etes maigre\")\n",
    "elif (18.5 <= IMC <= 24.9):\n",
    "    print(\"votre IMC est: \" + str(IMC) + \" kg/m²\" + \" vous avez une corpulence normale\")\n",
    "elif (25 <= IMC <= 29.9):\n",
    "    print(\"votre IMC est: \" + str(IMC) + \" kg/m²\" + \" vous etes en surpoids\")\n",
    "elif (30 <= IMC <= 34.9):\n",
    "    print(\"votre IMC est: \" + str(IMC) + \" kg/m²\" + \" vous etes en Obésité modérée\")\n",
    "elif (35 <= IMC <= 39.9):\n",
    "    print(\"votre IMC est: \" + str(IMC) + \" kg/m²\" + \" vous etes en Obésité sévère\")\n",
    "else:\n",
    "    print(\"votre IMC est: \" + str(IMC) + \" kg/m²\" + \" vous etes en Obésité morbide ou massive\")"
   ]
  },
  {
   "cell_type": "code",
   "execution_count": 2,
   "id": "113e3275",
   "metadata": {
    "scrolled": false
   },
   "outputs": [
    {
     "name": "stdout",
     "output_type": "stream",
     "text": [
      "entrée votre note 15\n",
      "Note au bac (sur 20) : 15\n",
      "Bac avec mention bien\n"
     ]
    }
   ],
   "source": [
    "# exo 1.2\n",
    "\n",
    "note = int(input(\"entrée votre note : \"))\n",
    "print(\"Note au bac (sur 20) : \" + str(note))\n",
    "if (note < 10):\n",
    "   print(\"vous etes recalé\")\n",
    "elif (10 <= note < 12):\n",
    "   print(\"Bac avec mention passable\")\n",
    "elif (12 <= note < 14):\n",
    "   print(\"Bac avec mention assez bien\")\n",
    "elif (14 <= note < 16):\n",
    "   print(\"Bac avec mention bien\")\n",
    "elif (16 <= note < 18):\n",
    "   print(\"Bac avec mention très bien\")\n",
    "else:\n",
    "    print(\"Bac avec mention excellent\")"
   ]
  },
  {
   "cell_type": "code",
   "execution_count": null,
   "id": "3017346f",
   "metadata": {},
   "outputs": [],
   "source": [
    "# exo 1.3\n",
    "#1 une fonction qui retourne l'aire de la surface d'un disque de rayon R\n",
    "\n",
    "def airedisque(rayon):\n",
    "    aire = 3.14 * rayon**2\n",
    "    return aire\n",
    "print(\"l'aire de la surface du disque est \", airedisque(5))\n",
    "\n",
    "#2 ajoutons un parametre qui precise l'unité de mesure\n",
    "def airedisque2(rayon, unite):\n",
    "    aire = 3.14 * rayon**2\n",
    "    return aire + int(unite)\n",
    "print(\"l'aire de la surface du disque est \", airedisque2(5, \"cm\"))\n"
   ]
  }
 ],
 "metadata": {
  "kernelspec": {
   "display_name": "Python 3",
   "language": "python",
   "name": "python3"
  },
  "language_info": {
   "codemirror_mode": {
    "name": "ipython",
    "version": 3
   },
   "file_extension": ".py",
   "mimetype": "text/x-python",
   "name": "python",
   "nbconvert_exporter": "python",
   "pygments_lexer": "ipython3",
   "version": "3.8.8"
  }
 },
 "nbformat": 4,
 "nbformat_minor": 5
}
