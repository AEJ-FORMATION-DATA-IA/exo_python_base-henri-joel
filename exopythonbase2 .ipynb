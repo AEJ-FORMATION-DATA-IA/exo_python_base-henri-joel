{
 "cells": [
  {
   "cell_type": "code",
   "execution_count": 3,
   "id": "0199e1db",
   "metadata": {
    "scrolled": true
   },
   "outputs": [
    {
     "name": "stdout",
     "output_type": "stream",
     "text": [
      "Entrez un nombre : 5\n",
      "5  ! =  120\n"
     ]
    }
   ],
   "source": [
    "# exo 1.1\n",
    "# factorielle d'un nombre\n",
    "number = int(input(\"Entrez un nombre : \"))\n",
    "fact = 1\n",
    "for i in range(1, number+1):\n",
    "    fact = fact * i\n",
    "print(number, \" ! = \", fact)\n",
    "\n",
    "\n"
   ]
  },
  {
   "cell_type": "code",
   "execution_count": 4,
   "id": "73be1068",
   "metadata": {},
   "outputs": [
    {
     "name": "stdout",
     "output_type": "stream",
     "text": [
      "veullez entré un nombre 5\n",
      "1\n",
      "3\n",
      "5\n"
     ]
    }
   ],
   "source": [
    "# exo 1.2\n",
    "# fonction listes des nombres impairs\n",
    "N = int(input(\"veullez entré un nombre \"))\n",
    "Ni = 0\n",
    "while Ni <= N:\n",
    "    if Ni % 2 != 0:\n",
    "        print(Ni)\n",
    "    Ni += 1\n"
   ]
  },
  {
   "cell_type": "code",
   "execution_count": 5,
   "id": "4eb627db",
   "metadata": {},
   "outputs": [
    {
     "name": "stdout",
     "output_type": "stream",
     "text": [
      "[10, 17, 25, 38, 72]\n",
      "[10, 17, 25, 38, 72, 12]\n",
      "[72, 38, 25, 17, 12, 10]\n",
      "6\n",
      "[72, 25, 17, 12, 10]\n",
      "[25, 17]\n",
      "[72, 25]\n",
      "[17, 12, 10]\n"
     ]
    }
   ],
   "source": [
    "# exo 1.3\n",
    "liste =[17, 38, 10, 25, 72]\n",
    "#1 triez et affichez la liste ;\n",
    "liste.sort()\n",
    "print(liste)\n",
    "#2. ajoutez l’élément 12 à la liste et affichez la liste ;\n",
    "liste.append(12)\n",
    "print(liste)\n",
    "#3. renversez et affichez la liste ;\n",
    "liste.sort(reverse=True)\n",
    "print(liste)\n",
    "#4. affichez le nombre d’éléments de la liste ;\n",
    "print(len(liste))\n",
    "#5. supprimez l’élément 38 et affichez la liste ;\n",
    "del (liste[1])\n",
    "print(liste)\n",
    "#6. affichez la sous-liste du 2e au 3e élément ;\n",
    "print(liste[1:3])\n",
    "#7. affichez la sous-liste du début au 2e élément ;\n",
    "print(liste[:2])\n",
    "#8. affichez la sous-liste du 3e élément à la fin de la liste ;\n",
    "print(liste[2:])\n",
    "\n"
   ]
  },
  {
   "cell_type": "code",
   "execution_count": 6,
   "id": "9bdd88c6",
   "metadata": {},
   "outputs": [
    {
     "name": "stdout",
     "output_type": "stream",
     "text": [
      "[1, 2, 4, 9, 5]\n"
     ]
    }
   ],
   "source": [
    "# exo 1.4\n",
    "# supprimer les doublons d'une liste\n",
    "liste = [1, 1, 2, 4, 9, 2, 5, 4]\n",
    "result = []\n",
    "for number in liste:\n",
    "    if number not in result:\n",
    "        result.append(number)\n",
    "print(result)\n"
   ]
  },
  {
   "cell_type": "code",
   "execution_count": null,
   "id": "b199c9d5",
   "metadata": {},
   "outputs": [],
   "source": []
  }
 ],
 "metadata": {
  "kernelspec": {
   "display_name": "Python 3",
   "language": "python",
   "name": "python3"
  },
  "language_info": {
   "codemirror_mode": {
    "name": "ipython",
    "version": 3
   },
   "file_extension": ".py",
   "mimetype": "text/x-python",
   "name": "python",
   "nbconvert_exporter": "python",
   "pygments_lexer": "ipython3",
   "version": "3.8.8"
  }
 },
 "nbformat": 4,
 "nbformat_minor": 5
}
